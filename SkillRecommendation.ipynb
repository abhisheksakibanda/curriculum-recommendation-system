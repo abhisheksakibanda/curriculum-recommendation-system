{
 "cells": [
  {
   "cell_type": "code",
   "execution_count": 1,
   "id": "43ed3fd8",
   "metadata": {},
   "outputs": [],
   "source": [
    "from pyspark.ml import Pipeline\n",
    "from pyspark.ml.recommendation import ALS\n",
    "from pyspark.ml.evaluation import RegressionEvaluator\n",
    "from pyspark.sql import SparkSession\n",
    "from pyspark.sql.functions import col, array_contains\n",
    "from pyspark.sql.functions import monotonically_increasing_id, regexp_replace\n",
    "from pyspark.sql.functions import split, udf\n",
    "from pyspark.ml.feature import Tokenizer, CountVectorizer, StringIndexer\n",
    "from ast import literal_eval\n",
    "from pyspark.sql.types import ArrayType, StringType, FloatType\n",
    "from pyspark.sql.functions import explode, col"
   ]
  },
  {
   "cell_type": "code",
   "execution_count": 2,
   "id": "6ee913f0",
   "metadata": {},
   "outputs": [
    {
     "name": "stdout",
     "output_type": "stream",
     "text": [
      "Courses:\n",
      "[Row(course_title='(ISC)² Systems Security Certified Practitioner (SSCP)', course_organization='ISC2', course_certificate_type='Specialization', course_time='3 - 6 Months', course_rating='4.7', course_reviews_num='492', course_difficulty='Beginner', course_url='https://www.coursera.org/specializations/sscp-training', course_students_enrolled='6,958', course_skills=\"['Risk Management', 'Access Control', 'Asset', 'Incident Detection and Response', 'Cloud Computing Security', 'Wireless Security', 'Security Software']\", course_summary='[]', course_description='Pursue better IT security job opportunities and prove knowledge with confidence. The SSCP Professional Training Certificate shows employers you have the IT security foundation to defend against cyber attacks – and puts you on a clear path to earning SSCP certification. Learn on your own schedule with 120-day access to content aligned with the latest (ISC)2 SSCP exam domains. We’re offering the complete online self-paced program for only $1,000 – a $200 savings when you get all domains bundled together. 3 Steps to Career Advancement  1.  Register for the course  2.  Gain access for 120 days  3. Register and sit for the SSCP certification exam Upon completing the SSCP Professional Certificate, you will: 1.  Complete six courses of preparing you to sit for the Systems Security Certified Practitioner (SSCP) certification exam Opens in a new tabas outlined below. Course 1 - Access Controls Course 2 - Security Operations and Administration Course 3 - Risk Identification, Monitoring, and Analysis/Incident Response and Recovery Course 4 - Cryptography Course 5 - Network and Communication Security Course 6 - Systems and Application Security 2. Receive a certificate of program completion. 3. Understand how to implement, monitor and administer an organization’s IT infrastructure in accordance with security policies and procedures that ensure data confidentiality, integrity and availability. Applied Learning Project Each course includes a case study that will require students to put into practice the knowledge they have gained throughout each course. Successful completion of course projects will require the basic understanding of the topics covered and the ability to relate those topics to the real world. The objective of each project is to determine whether students have understood course concepts and are able to use them in a real world setting.  '), Row(course_title='.NET FullStack Developer', course_organization='Board Infinity', course_certificate_type='Specialization', course_time='1 - 3 Months', course_rating='4.3', course_reviews_num='51', course_difficulty='Intermediate', course_url='https://www.coursera.org/specializations/dot-net-fullstack', course_students_enrolled='2,531', course_skills=\"['Web API', 'Web Development', 'Cascading Style Sheets (CSS)', 'HTML', 'React (Web Framework)', 'RESTful APIs', 'C# programming', 'API Integration', 'Model–View–Controller (MVC)', 'asp.net']\", course_summary='\"[\\'Master .NET full stack web dev: from .NET core basics to advanced web application creation using .NET technologies.  \\', \"\"Dive into React frontend development: from foundational HTML & CSS to dynamic UI design using JavaScript and React\\'s core concepts. \"\"', course_description=\" 'Explore backend with ASP.NET: Understand ASP.NET Core architecture\")]\n",
      "\n",
      "Mappings:\n",
      "[Row(name='Machine Learning', institution='Stanford University', course_id='machine-learning'), Row(name='Indigenous Canada', institution='University of Alberta', course_id='indigenous-canada')]\n",
      "\n",
      "Reviews:\n",
      "[Row(reviews=\"Pretty dry, but I was able to pass with just two complete watches so I'm happy about that.  As usual there were some questions on the final exam that were NO WHERE in the course, which is annoying but far better than many microsoft tests I have taken.  Never found the suplimental material that the course references... but who cares... i passed!\", reviewers='By Robert S', date_reviews='Feb 12, 2020', rating='4', course_id='google-cbrs-cpi-training'), Row(reviews='would be a better experience if the video and screen shots would sho on the side of the text that the instructor is going thru so that user does not have to go all the way to beginning of text to be able to view any slides instructor is showing.', reviewers='By Gabriel E R', date_reviews='Sep 28, 2020', rating='4', course_id='google-cbrs-cpi-training')]\n"
     ]
    }
   ],
   "source": [
    "# Create a Spark session\n",
    "spark = SparkSession.builder.appName(\"CourseRecommendation\").getOrCreate()\n",
    "\n",
    "# Load courses data into a DataFrame\n",
    "courses_df = spark.read.option(\"multiLine\", True).csv(\"coursera_courses.csv\", header=True, inferSchema=True).withColumn('course_description', regexp_replace('course_description', '\\n', ' '))\n",
    "\n",
    "# Load the courses mapping\n",
    "courses_mapping_df = spark.read.csv(\"Coursera_courses_mappings.csv\", header=True, inferSchema=True).drop(\"course_url\")\n",
    "\n",
    "# Load the course reviews dataset\n",
    "reviews_df = spark.read.csv(\"Coursera_reviews.csv\", header=True, inferSchema=True)\n",
    "\n",
    "# Show the first few rows of the DataFrame\n",
    "print(f\"Courses:\\n{courses_df.head(2)}\")\n",
    "\n",
    "print(f\"\\nMappings:\\n{courses_mapping_df.head(2)}\")\n",
    "\n",
    "print(f\"\\nReviews:\\n{reviews_df.head(2)}\")"
   ]
  },
  {
   "cell_type": "code",
   "execution_count": 3,
   "id": "f505ea3e",
   "metadata": {},
   "outputs": [
    {
     "data": {
      "text/plain": [
       "[Row(course_title='(ISC)² Systems Security Certified Practitioner (SSCP)', course_organization='ISC2', course_certificate_type='Specialization', course_time='3 - 6 Months', course_rating=4.699999809265137, course_reviews_num='492', course_difficulty='Beginner', course_url='https://www.coursera.org/specializations/sscp-training', course_students_enrolled='6,958', course_skills=\"['Risk Management', 'Access Control', 'Asset', 'Incident Detection and Response', 'Cloud Computing Security', 'Wireless Security', 'Security Software']\", course_summary='[]', course_description='Pursue better IT security job opportunities and prove knowledge with confidence. The SSCP Professional Training Certificate shows employers you have the IT security foundation to defend against cyber attacks – and puts you on a clear path to earning SSCP certification. Learn on your own schedule with 120-day access to content aligned with the latest (ISC)2 SSCP exam domains. We’re offering the complete online self-paced program for only $1,000 – a $200 savings when you get all domains bundled together. 3 Steps to Career Advancement  1.  Register for the course  2.  Gain access for 120 days  3. Register and sit for the SSCP certification exam Upon completing the SSCP Professional Certificate, you will: 1.  Complete six courses of preparing you to sit for the Systems Security Certified Practitioner (SSCP) certification exam Opens in a new tabas outlined below. Course 1 - Access Controls Course 2 - Security Operations and Administration Course 3 - Risk Identification, Monitoring, and Analysis/Incident Response and Recovery Course 4 - Cryptography Course 5 - Network and Communication Security Course 6 - Systems and Application Security 2. Receive a certificate of program completion. 3. Understand how to implement, monitor and administer an organization’s IT infrastructure in accordance with security policies and procedures that ensure data confidentiality, integrity and availability. Applied Learning Project Each course includes a case study that will require students to put into practice the knowledge they have gained throughout each course. Successful completion of course projects will require the basic understanding of the topics covered and the ability to relate those topics to the real world. The objective of each project is to determine whether students have understood course concepts and are able to use them in a real world setting.  ', user_id=0),\n",
       " Row(course_title='.NET FullStack Developer', course_organization='Board Infinity', course_certificate_type='Specialization', course_time='1 - 3 Months', course_rating=4.300000190734863, course_reviews_num='51', course_difficulty='Intermediate', course_url='https://www.coursera.org/specializations/dot-net-fullstack', course_students_enrolled='2,531', course_skills=\"['Web API', 'Web Development', 'Cascading Style Sheets (CSS)', 'HTML', 'React (Web Framework)', 'RESTful APIs', 'C# programming', 'API Integration', 'Model–View–Controller (MVC)', 'asp.net']\", course_summary='\"[\\'Master .NET full stack web dev: from .NET core basics to advanced web application creation using .NET technologies.  \\', \"\"Dive into React frontend development: from foundational HTML & CSS to dynamic UI design using JavaScript and React\\'s core concepts. \"\"', course_description=\" 'Explore backend with ASP.NET: Understand ASP.NET Core architecture\", user_id=1)]"
      ]
     },
     "execution_count": 3,
     "metadata": {},
     "output_type": "execute_result"
    }
   ],
   "source": [
    "# Data Preprocessing\n",
    "\n",
    "# Add a user_id column for Collaborative Filtering\n",
    "courses_df = courses_df.withColumn('user_id', monotonically_increasing_id())\n",
    "\n",
    "# Convert 'course_rating' column to float\n",
    "courses_df = courses_df.withColumn('course_rating', col('course_rating').cast('float'))\n",
    "\n",
    "# Feature Engineering: StringIndexer for user and item (course) columns\n",
    "course_indexer = StringIndexer(inputCol=\"course_id\", outputCol=\"courseIndex\")\n",
    "\n",
    "# Convert the 'rating' column in reviews_df to float\n",
    "reviews_df = reviews_df.withColumn('rating', reviews_df['rating'].cast(FloatType()))\n",
    "\n",
    "courses_df.head(2)"
   ]
  },
  {
   "cell_type": "code",
   "execution_count": 4,
   "id": "3f4e8a49",
   "metadata": {},
   "outputs": [
    {
     "name": "stdout",
     "output_type": "stream",
     "text": [
      "Courses Dataset Data Types:\n",
      "[('course_title', 'string'), ('course_organization', 'string'), ('course_certificate_type', 'string'), ('course_time', 'string'), ('course_rating', 'float'), ('course_reviews_num', 'string'), ('course_difficulty', 'string'), ('course_url', 'string'), ('course_students_enrolled', 'string'), ('course_skills', 'string'), ('course_summary', 'string'), ('course_description', 'string'), ('user_id', 'bigint')]\n",
      "\n",
      "Courses Mappings Dataset Data Types:\n",
      "[('name', 'string'), ('institution', 'string'), ('course_id', 'string')]\n",
      "\n",
      "Reviews Dataset Data Types:\n",
      "[('reviews', 'string'), ('reviewers', 'string'), ('date_reviews', 'string'), ('rating', 'float'), ('course_id', 'string')]\n"
     ]
    }
   ],
   "source": [
    "print(f\"Courses Dataset Data Types:\\n{courses_df.dtypes}\")\n",
    "print(f\"\\nCourses Mappings Dataset Data Types:\\n{courses_mapping_df.dtypes}\")\n",
    "print(f\"\\nReviews Dataset Data Types:\\n{reviews_df.dtypes}\")"
   ]
  },
  {
   "cell_type": "code",
   "execution_count": 5,
   "id": "de9909d1",
   "metadata": {},
   "outputs": [
    {
     "name": "stdout",
     "output_type": "stream",
     "text": [
      "+--------------------+--------------+------------+------+--------------------+\n",
      "|             reviews|     reviewers|date_reviews|rating|           course_id|\n",
      "+--------------------+--------------+------------+------+--------------------+\n",
      "|Pretty dry, but I...|   By Robert S|Feb 12, 2020|   4.0|google-cbrs-cpi-t...|\n",
      "|would be a better...|By Gabriel E R|Sep 28, 2020|   4.0|google-cbrs-cpi-t...|\n",
      "|Information was p...|    By Jacob D|Apr 08, 2020|   4.0|google-cbrs-cpi-t...|\n",
      "|A few grammatical...|     By Dale B|Feb 24, 2020|   4.0|google-cbrs-cpi-t...|\n",
      "|Excellent course ...|     By Sean G|Jun 18, 2020|   4.0|google-cbrs-cpi-t...|\n",
      "|Some of the quizz...|   By Daniel F|Dec 23, 2019|   4.0|google-cbrs-cpi-t...|\n",
      "|Solid presentatio...|    By Logan D|Sep 03, 2020|   5.0|google-cbrs-cpi-t...|\n",
      "|Probably the best...|   By Luis M C|Nov 21, 2019|   5.0|google-cbrs-cpi-t...|\n",
      "|The ProctorU.com ...|    By scott w|Sep 28, 2020|   5.0|google-cbrs-cpi-t...|\n",
      "|Covered all of th...|     By Ryan H|Aug 26, 2019|   5.0|google-cbrs-cpi-t...|\n",
      "|Great course, lec...|   By Samuel D|Jan 24, 2020|   5.0|google-cbrs-cpi-t...|\n",
      "|The course was st...|   By Scot A W|May 01, 2020|   5.0|google-cbrs-cpi-t...|\n",
      "|Pretty well desig...| By Jonathan L|Jan 17, 2020|   5.0|google-cbrs-cpi-t...|\n",
      "|Great course, i h...|    By Geoff T|Jul 21, 2019|   5.0|google-cbrs-cpi-t...|\n",
      "|The course was fi...|  By William J|Jun 07, 2019|   5.0|google-cbrs-cpi-t...|\n",
      "|Well presented co...|    By Ariel R|Sep 27, 2019|   5.0|google-cbrs-cpi-t...|\n",
      "|Course is easy en...|   By Austin N|Dec 27, 2019|   5.0|google-cbrs-cpi-t...|\n",
      "|The instructions ...| By Jayson P J|Nov 22, 2019|   5.0|google-cbrs-cpi-t...|\n",
      "|Easy to follow. D...|   By Robert S|Nov 07, 2019|   5.0|google-cbrs-cpi-t...|\n",
      "|Excellent Trainin...|    By Scott C|Sep 02, 2020|   5.0|google-cbrs-cpi-t...|\n",
      "+--------------------+--------------+------------+------+--------------------+\n",
      "only showing top 20 rows\n",
      "\n"
     ]
    }
   ],
   "source": [
    "reviews_df.show()"
   ]
  },
  {
   "cell_type": "code",
   "execution_count": 6,
   "id": "5bf673cd",
   "metadata": {},
   "outputs": [],
   "source": [
    "# ALS Collaborative Filtering Model (Alternating Least Squares)\n",
    "als = ALS(maxIter=10, regParam=0.01, userCol=\"user_id\", itemCol=\"courseIndex\", ratingCol=\"course_rating\")"
   ]
  },
  {
   "cell_type": "code",
   "execution_count": 7,
   "id": "b265f4fd",
   "metadata": {},
   "outputs": [],
   "source": [
    "# Content-based recommendation pipeline\n",
    "tokenizer = Tokenizer(inputCol=\"course_skills\", outputCol=\"words\")\n",
    "vectorizer = CountVectorizer(inputCol=\"words\", outputCol=\"features\")"
   ]
  },
  {
   "cell_type": "code",
   "execution_count": 8,
   "id": "57af0fef",
   "metadata": {},
   "outputs": [],
   "source": [
    "combined_data = reviews_df.join(courses_mapping_df, \"course_id\").join(\n",
    "    courses_df, (courses_mapping_df[\"name\"] == courses_df[\"course_title\"])\n",
    ")"
   ]
  },
  {
   "cell_type": "code",
   "execution_count": 9,
   "id": "16e01cf4",
   "metadata": {},
   "outputs": [
    {
     "data": {
      "text/plain": [
       "[('course_id', 'string'),\n",
       " ('reviews', 'string'),\n",
       " ('reviewers', 'string'),\n",
       " ('date_reviews', 'string'),\n",
       " ('rating', 'float'),\n",
       " ('name', 'string'),\n",
       " ('institution', 'string'),\n",
       " ('course_title', 'string'),\n",
       " ('course_organization', 'string'),\n",
       " ('course_certificate_type', 'string'),\n",
       " ('course_time', 'string'),\n",
       " ('course_rating', 'float'),\n",
       " ('course_reviews_num', 'string'),\n",
       " ('course_difficulty', 'string'),\n",
       " ('course_url', 'string'),\n",
       " ('course_students_enrolled', 'string'),\n",
       " ('course_skills', 'string'),\n",
       " ('course_summary', 'string'),\n",
       " ('course_description', 'string'),\n",
       " ('user_id', 'bigint')]"
      ]
     },
     "execution_count": 9,
     "metadata": {},
     "output_type": "execute_result"
    }
   ],
   "source": [
    "combined_data.dtypes"
   ]
  },
  {
   "cell_type": "code",
   "execution_count": 10,
   "id": "ceacb323",
   "metadata": {},
   "outputs": [
    {
     "name": "stdout",
     "output_type": "stream",
     "text": [
      "+--------------------+--------------------+--------------+------------+------+--------------------+--------------------+--------------------+--------------------+-----------------------+------------+-------------+------------------+-----------------+--------------------+------------------------+-------------+--------------------+--------------------+-------+\n",
      "|           course_id|             reviews|     reviewers|date_reviews|rating|                name|         institution|        course_title| course_organization|course_certificate_type| course_time|course_rating|course_reviews_num|course_difficulty|          course_url|course_students_enrolled|course_skills|      course_summary|  course_description|user_id|\n",
      "+--------------------+--------------------+--------------+------------+------+--------------------+--------------------+--------------------+--------------------+-----------------------+------------+-------------+------------------+-----------------+--------------------+------------------------+-------------+--------------------+--------------------+-------+\n",
      "|google-cbrs-cpi-t...|Pretty dry, but I...|   By Robert S|Feb 12, 2020|   4.0|Become a CBRS Cer...|Google - Spectrum...|Become a CBRS Cer...|Google - Spectrum...|                 Course|1 - 3 Months|          4.6|              3.4k|            Mixed|https://www.cours...|                   9,008|           []|['Bayesian Infere...|This Specializati...|     96|\n",
      "|google-cbrs-cpi-t...|would be a better...|By Gabriel E R|Sep 28, 2020|   4.0|Become a CBRS Cer...|Google - Spectrum...|Become a CBRS Cer...|Google - Spectrum...|                 Course|1 - 3 Months|          4.6|              3.4k|            Mixed|https://www.cours...|                   9,008|           []|['Bayesian Infere...|This Specializati...|     96|\n",
      "|google-cbrs-cpi-t...|Information was p...|    By Jacob D|Apr 08, 2020|   4.0|Become a CBRS Cer...|Google - Spectrum...|Become a CBRS Cer...|Google - Spectrum...|                 Course|1 - 3 Months|          4.6|              3.4k|            Mixed|https://www.cours...|                   9,008|           []|['Bayesian Infere...|This Specializati...|     96|\n",
      "|google-cbrs-cpi-t...|A few grammatical...|     By Dale B|Feb 24, 2020|   4.0|Become a CBRS Cer...|Google - Spectrum...|Become a CBRS Cer...|Google - Spectrum...|                 Course|1 - 3 Months|          4.6|              3.4k|            Mixed|https://www.cours...|                   9,008|           []|['Bayesian Infere...|This Specializati...|     96|\n",
      "|google-cbrs-cpi-t...|Excellent course ...|     By Sean G|Jun 18, 2020|   4.0|Become a CBRS Cer...|Google - Spectrum...|Become a CBRS Cer...|Google - Spectrum...|                 Course|1 - 3 Months|          4.6|              3.4k|            Mixed|https://www.cours...|                   9,008|           []|['Bayesian Infere...|This Specializati...|     96|\n",
      "|google-cbrs-cpi-t...|Some of the quizz...|   By Daniel F|Dec 23, 2019|   4.0|Become a CBRS Cer...|Google - Spectrum...|Become a CBRS Cer...|Google - Spectrum...|                 Course|1 - 3 Months|          4.6|              3.4k|            Mixed|https://www.cours...|                   9,008|           []|['Bayesian Infere...|This Specializati...|     96|\n",
      "|google-cbrs-cpi-t...|Solid presentatio...|    By Logan D|Sep 03, 2020|   5.0|Become a CBRS Cer...|Google - Spectrum...|Become a CBRS Cer...|Google - Spectrum...|                 Course|1 - 3 Months|          4.6|              3.4k|            Mixed|https://www.cours...|                   9,008|           []|['Bayesian Infere...|This Specializati...|     96|\n",
      "|google-cbrs-cpi-t...|Probably the best...|   By Luis M C|Nov 21, 2019|   5.0|Become a CBRS Cer...|Google - Spectrum...|Become a CBRS Cer...|Google - Spectrum...|                 Course|1 - 3 Months|          4.6|              3.4k|            Mixed|https://www.cours...|                   9,008|           []|['Bayesian Infere...|This Specializati...|     96|\n",
      "|google-cbrs-cpi-t...|The ProctorU.com ...|    By scott w|Sep 28, 2020|   5.0|Become a CBRS Cer...|Google - Spectrum...|Become a CBRS Cer...|Google - Spectrum...|                 Course|1 - 3 Months|          4.6|              3.4k|            Mixed|https://www.cours...|                   9,008|           []|['Bayesian Infere...|This Specializati...|     96|\n",
      "|google-cbrs-cpi-t...|Covered all of th...|     By Ryan H|Aug 26, 2019|   5.0|Become a CBRS Cer...|Google - Spectrum...|Become a CBRS Cer...|Google - Spectrum...|                 Course|1 - 3 Months|          4.6|              3.4k|            Mixed|https://www.cours...|                   9,008|           []|['Bayesian Infere...|This Specializati...|     96|\n",
      "|google-cbrs-cpi-t...|Great course, lec...|   By Samuel D|Jan 24, 2020|   5.0|Become a CBRS Cer...|Google - Spectrum...|Become a CBRS Cer...|Google - Spectrum...|                 Course|1 - 3 Months|          4.6|              3.4k|            Mixed|https://www.cours...|                   9,008|           []|['Bayesian Infere...|This Specializati...|     96|\n",
      "|google-cbrs-cpi-t...|The course was st...|   By Scot A W|May 01, 2020|   5.0|Become a CBRS Cer...|Google - Spectrum...|Become a CBRS Cer...|Google - Spectrum...|                 Course|1 - 3 Months|          4.6|              3.4k|            Mixed|https://www.cours...|                   9,008|           []|['Bayesian Infere...|This Specializati...|     96|\n",
      "|google-cbrs-cpi-t...|Pretty well desig...| By Jonathan L|Jan 17, 2020|   5.0|Become a CBRS Cer...|Google - Spectrum...|Become a CBRS Cer...|Google - Spectrum...|                 Course|1 - 3 Months|          4.6|              3.4k|            Mixed|https://www.cours...|                   9,008|           []|['Bayesian Infere...|This Specializati...|     96|\n",
      "|google-cbrs-cpi-t...|Great course, i h...|    By Geoff T|Jul 21, 2019|   5.0|Become a CBRS Cer...|Google - Spectrum...|Become a CBRS Cer...|Google - Spectrum...|                 Course|1 - 3 Months|          4.6|              3.4k|            Mixed|https://www.cours...|                   9,008|           []|['Bayesian Infere...|This Specializati...|     96|\n",
      "|google-cbrs-cpi-t...|The course was fi...|  By William J|Jun 07, 2019|   5.0|Become a CBRS Cer...|Google - Spectrum...|Become a CBRS Cer...|Google - Spectrum...|                 Course|1 - 3 Months|          4.6|              3.4k|            Mixed|https://www.cours...|                   9,008|           []|['Bayesian Infere...|This Specializati...|     96|\n",
      "|google-cbrs-cpi-t...|Well presented co...|    By Ariel R|Sep 27, 2019|   5.0|Become a CBRS Cer...|Google - Spectrum...|Become a CBRS Cer...|Google - Spectrum...|                 Course|1 - 3 Months|          4.6|              3.4k|            Mixed|https://www.cours...|                   9,008|           []|['Bayesian Infere...|This Specializati...|     96|\n",
      "|google-cbrs-cpi-t...|Course is easy en...|   By Austin N|Dec 27, 2019|   5.0|Become a CBRS Cer...|Google - Spectrum...|Become a CBRS Cer...|Google - Spectrum...|                 Course|1 - 3 Months|          4.6|              3.4k|            Mixed|https://www.cours...|                   9,008|           []|['Bayesian Infere...|This Specializati...|     96|\n",
      "|google-cbrs-cpi-t...|The instructions ...| By Jayson P J|Nov 22, 2019|   5.0|Become a CBRS Cer...|Google - Spectrum...|Become a CBRS Cer...|Google - Spectrum...|                 Course|1 - 3 Months|          4.6|              3.4k|            Mixed|https://www.cours...|                   9,008|           []|['Bayesian Infere...|This Specializati...|     96|\n",
      "|google-cbrs-cpi-t...|Easy to follow. D...|   By Robert S|Nov 07, 2019|   5.0|Become a CBRS Cer...|Google - Spectrum...|Become a CBRS Cer...|Google - Spectrum...|                 Course|1 - 3 Months|          4.6|              3.4k|            Mixed|https://www.cours...|                   9,008|           []|['Bayesian Infere...|This Specializati...|     96|\n",
      "|google-cbrs-cpi-t...|Excellent Trainin...|    By Scott C|Sep 02, 2020|   5.0|Become a CBRS Cer...|Google - Spectrum...|Become a CBRS Cer...|Google - Spectrum...|                 Course|1 - 3 Months|          4.6|              3.4k|            Mixed|https://www.cours...|                   9,008|           []|['Bayesian Infere...|This Specializati...|     96|\n",
      "+--------------------+--------------------+--------------+------------+------+--------------------+--------------------+--------------------+--------------------+-----------------------+------------+-------------+------------------+-----------------+--------------------+------------------------+-------------+--------------------+--------------------+-------+\n",
      "only showing top 20 rows\n",
      "\n"
     ]
    }
   ],
   "source": [
    "combined_data.show()"
   ]
  },
  {
   "cell_type": "code",
   "execution_count": 11,
   "id": "173d0fe3",
   "metadata": {},
   "outputs": [],
   "source": [
    "# Create a pipeline for content-based recommendations\n",
    "pipeline_content = Pipeline(stages=[course_indexer, tokenizer, vectorizer])"
   ]
  },
  {
   "cell_type": "code",
   "execution_count": 12,
   "id": "1c77f150",
   "metadata": {},
   "outputs": [],
   "source": [
    "# Fit and transform the pipeline to get course features\n",
    "content_model = pipeline_content.fit(combined_data)\n",
    "data_content = content_model.transform(combined_data).alias(\"content_data\")"
   ]
  },
  {
   "cell_type": "code",
   "execution_count": 13,
   "id": "828d1437",
   "metadata": {},
   "outputs": [
    {
     "name": "stdout",
     "output_type": "stream",
     "text": [
      "root\n",
      " |-- course_title: string (nullable = true)\n",
      " |-- course_organization: string (nullable = true)\n",
      " |-- course_certificate_type: string (nullable = true)\n",
      " |-- course_time: string (nullable = true)\n",
      " |-- course_rating: float (nullable = true)\n",
      " |-- course_reviews_num: string (nullable = true)\n",
      " |-- course_difficulty: string (nullable = true)\n",
      " |-- course_url: string (nullable = true)\n",
      " |-- course_students_enrolled: string (nullable = true)\n",
      " |-- course_skills: string (nullable = true)\n",
      " |-- course_summary: string (nullable = true)\n",
      " |-- course_description: string (nullable = true)\n",
      " |-- user_id: long (nullable = false)\n",
      "\n",
      "None\n",
      "root\n",
      " |-- name: string (nullable = true)\n",
      " |-- institution: string (nullable = true)\n",
      " |-- course_id: string (nullable = true)\n",
      "\n",
      "None\n",
      "root\n",
      " |-- reviews: string (nullable = true)\n",
      " |-- reviewers: string (nullable = true)\n",
      " |-- date_reviews: string (nullable = true)\n",
      " |-- rating: float (nullable = true)\n",
      " |-- course_id: string (nullable = true)\n",
      "\n",
      "None\n",
      "root\n",
      " |-- course_id: string (nullable = true)\n",
      " |-- reviews: string (nullable = true)\n",
      " |-- reviewers: string (nullable = true)\n",
      " |-- date_reviews: string (nullable = true)\n",
      " |-- rating: float (nullable = true)\n",
      " |-- name: string (nullable = true)\n",
      " |-- institution: string (nullable = true)\n",
      " |-- course_title: string (nullable = true)\n",
      " |-- course_organization: string (nullable = true)\n",
      " |-- course_certificate_type: string (nullable = true)\n",
      " |-- course_time: string (nullable = true)\n",
      " |-- course_rating: float (nullable = true)\n",
      " |-- course_reviews_num: string (nullable = true)\n",
      " |-- course_difficulty: string (nullable = true)\n",
      " |-- course_url: string (nullable = true)\n",
      " |-- course_students_enrolled: string (nullable = true)\n",
      " |-- course_skills: string (nullable = true)\n",
      " |-- course_summary: string (nullable = true)\n",
      " |-- course_description: string (nullable = true)\n",
      " |-- user_id: long (nullable = false)\n",
      " |-- courseIndex: double (nullable = false)\n",
      " |-- words: array (nullable = true)\n",
      " |    |-- element: string (containsNull = true)\n",
      " |-- features: vector (nullable = true)\n",
      "\n",
      "None\n"
     ]
    }
   ],
   "source": [
    "# Print the column names in the dataframes\n",
    "print(courses_df.printSchema())\n",
    "\n",
    "print(courses_mapping_df.printSchema())\n",
    "\n",
    "print(reviews_df.printSchema())\n",
    "\n",
    "print(data_content.printSchema())"
   ]
  },
  {
   "cell_type": "code",
   "execution_count": 14,
   "id": "52730f0c",
   "metadata": {},
   "outputs": [],
   "source": [
    "# Create temporary views for DataFrames\n",
    "data_content.createOrReplaceTempView(\"data_content\")\n",
    "reviews_df.createOrReplaceTempView(\"reviews_df\")\n",
    "courses_mapping_df.createOrReplaceTempView(\"courses_mapping_df\")\n",
    "courses_df.createOrReplaceTempView(\"courses_df\")\n",
    "\n",
    "# SQL query to join the DataFrames\n",
    "query = \"\"\"\n",
    "    SELECT\n",
    "        data_content.*,\n",
    "        reviews_df.rating AS review_rating,\n",
    "        courses_mapping_df.name,\n",
    "        courses_mapping_df.institution,\n",
    "        courses_mapping_df.course_url,\n",
    "        courses_df.course_title,\n",
    "        courses_df.course_organization,\n",
    "        courses_df.course_certificate_type,\n",
    "        courses_df.course_time,\n",
    "        courses_df.course_rating,\n",
    "        courses_df.course_reviews_num,\n",
    "        courses_df.course_difficulty,\n",
    "        courses_df.course_url AS course_url_combined,\n",
    "        courses_df.course_students_enrolled,\n",
    "        courses_df.course_skills,\n",
    "        courses_df.course_summary,\n",
    "        courses_df.course_description,\n",
    "        courses_df.user_id\n",
    "    FROM\n",
    "        data_content\n",
    "    LEFT JOIN\n",
    "        reviews_df\n",
    "    ON\n",
    "        data_content.course_id = reviews_df.course_id\n",
    "    LEFT JOIN\n",
    "        courses_mapping_df\n",
    "    ON\n",
    "        data_content.course_id = courses_mapping_df.course_id\n",
    "    LEFT JOIN\n",
    "        courses_df\n",
    "    ON\n",
    "        courses_mapping_df.name = courses_df.course_title\n",
    "\"\"\"\n",
    "\n",
    "# Execute the SQL query\n",
    "data_content = spark.sql(query)"
   ]
  },
  {
   "cell_type": "code",
   "execution_count": 15,
   "id": "6b806427",
   "metadata": {
    "scrolled": true
   },
   "outputs": [
    {
     "name": "stdout",
     "output_type": "stream",
     "text": [
      "+--------------------+--------------------+--------------+------------+------+--------------------+--------------------+--------------------+--------------------+-----------------------+------------+-------------+------------------+-----------------+--------------------+------------------------+-------------+--------------------+--------------------+-------+-----------+-----+----------------+\n",
      "|           course_id|             reviews|     reviewers|date_reviews|rating|                name|         institution|        course_title| course_organization|course_certificate_type| course_time|course_rating|course_reviews_num|course_difficulty|          course_url|course_students_enrolled|course_skills|      course_summary|  course_description|user_id|courseIndex|words|        features|\n",
      "+--------------------+--------------------+--------------+------------+------+--------------------+--------------------+--------------------+--------------------+-----------------------+------------+-------------+------------------+-----------------+--------------------+------------------------+-------------+--------------------+--------------------+-------+-----------+-----+----------------+\n",
      "|google-cbrs-cpi-t...|Pretty dry, but I...|   By Robert S|Feb 12, 2020|   4.0|Become a CBRS Cer...|Google - Spectrum...|Become a CBRS Cer...|Google - Spectrum...|                 Course|1 - 3 Months|          4.6|              3.4k|            Mixed|https://www.cours...|                   9,008|           []|['Bayesian Infere...|This Specializati...|     96|      198.0| [[]]|(746,[11],[1.0])|\n",
      "|google-cbrs-cpi-t...|would be a better...|By Gabriel E R|Sep 28, 2020|   4.0|Become a CBRS Cer...|Google - Spectrum...|Become a CBRS Cer...|Google - Spectrum...|                 Course|1 - 3 Months|          4.6|              3.4k|            Mixed|https://www.cours...|                   9,008|           []|['Bayesian Infere...|This Specializati...|     96|      198.0| [[]]|(746,[11],[1.0])|\n",
      "|google-cbrs-cpi-t...|Information was p...|    By Jacob D|Apr 08, 2020|   4.0|Become a CBRS Cer...|Google - Spectrum...|Become a CBRS Cer...|Google - Spectrum...|                 Course|1 - 3 Months|          4.6|              3.4k|            Mixed|https://www.cours...|                   9,008|           []|['Bayesian Infere...|This Specializati...|     96|      198.0| [[]]|(746,[11],[1.0])|\n",
      "|google-cbrs-cpi-t...|A few grammatical...|     By Dale B|Feb 24, 2020|   4.0|Become a CBRS Cer...|Google - Spectrum...|Become a CBRS Cer...|Google - Spectrum...|                 Course|1 - 3 Months|          4.6|              3.4k|            Mixed|https://www.cours...|                   9,008|           []|['Bayesian Infere...|This Specializati...|     96|      198.0| [[]]|(746,[11],[1.0])|\n",
      "|google-cbrs-cpi-t...|Excellent course ...|     By Sean G|Jun 18, 2020|   4.0|Become a CBRS Cer...|Google - Spectrum...|Become a CBRS Cer...|Google - Spectrum...|                 Course|1 - 3 Months|          4.6|              3.4k|            Mixed|https://www.cours...|                   9,008|           []|['Bayesian Infere...|This Specializati...|     96|      198.0| [[]]|(746,[11],[1.0])|\n",
      "|google-cbrs-cpi-t...|Some of the quizz...|   By Daniel F|Dec 23, 2019|   4.0|Become a CBRS Cer...|Google - Spectrum...|Become a CBRS Cer...|Google - Spectrum...|                 Course|1 - 3 Months|          4.6|              3.4k|            Mixed|https://www.cours...|                   9,008|           []|['Bayesian Infere...|This Specializati...|     96|      198.0| [[]]|(746,[11],[1.0])|\n",
      "|google-cbrs-cpi-t...|Solid presentatio...|    By Logan D|Sep 03, 2020|   5.0|Become a CBRS Cer...|Google - Spectrum...|Become a CBRS Cer...|Google - Spectrum...|                 Course|1 - 3 Months|          4.6|              3.4k|            Mixed|https://www.cours...|                   9,008|           []|['Bayesian Infere...|This Specializati...|     96|      198.0| [[]]|(746,[11],[1.0])|\n",
      "|google-cbrs-cpi-t...|Probably the best...|   By Luis M C|Nov 21, 2019|   5.0|Become a CBRS Cer...|Google - Spectrum...|Become a CBRS Cer...|Google - Spectrum...|                 Course|1 - 3 Months|          4.6|              3.4k|            Mixed|https://www.cours...|                   9,008|           []|['Bayesian Infere...|This Specializati...|     96|      198.0| [[]]|(746,[11],[1.0])|\n",
      "|google-cbrs-cpi-t...|The ProctorU.com ...|    By scott w|Sep 28, 2020|   5.0|Become a CBRS Cer...|Google - Spectrum...|Become a CBRS Cer...|Google - Spectrum...|                 Course|1 - 3 Months|          4.6|              3.4k|            Mixed|https://www.cours...|                   9,008|           []|['Bayesian Infere...|This Specializati...|     96|      198.0| [[]]|(746,[11],[1.0])|\n",
      "|google-cbrs-cpi-t...|Covered all of th...|     By Ryan H|Aug 26, 2019|   5.0|Become a CBRS Cer...|Google - Spectrum...|Become a CBRS Cer...|Google - Spectrum...|                 Course|1 - 3 Months|          4.6|              3.4k|            Mixed|https://www.cours...|                   9,008|           []|['Bayesian Infere...|This Specializati...|     96|      198.0| [[]]|(746,[11],[1.0])|\n",
      "|google-cbrs-cpi-t...|Great course, lec...|   By Samuel D|Jan 24, 2020|   5.0|Become a CBRS Cer...|Google - Spectrum...|Become a CBRS Cer...|Google - Spectrum...|                 Course|1 - 3 Months|          4.6|              3.4k|            Mixed|https://www.cours...|                   9,008|           []|['Bayesian Infere...|This Specializati...|     96|      198.0| [[]]|(746,[11],[1.0])|\n",
      "|google-cbrs-cpi-t...|The course was st...|   By Scot A W|May 01, 2020|   5.0|Become a CBRS Cer...|Google - Spectrum...|Become a CBRS Cer...|Google - Spectrum...|                 Course|1 - 3 Months|          4.6|              3.4k|            Mixed|https://www.cours...|                   9,008|           []|['Bayesian Infere...|This Specializati...|     96|      198.0| [[]]|(746,[11],[1.0])|\n",
      "|google-cbrs-cpi-t...|Pretty well desig...| By Jonathan L|Jan 17, 2020|   5.0|Become a CBRS Cer...|Google - Spectrum...|Become a CBRS Cer...|Google - Spectrum...|                 Course|1 - 3 Months|          4.6|              3.4k|            Mixed|https://www.cours...|                   9,008|           []|['Bayesian Infere...|This Specializati...|     96|      198.0| [[]]|(746,[11],[1.0])|\n",
      "|google-cbrs-cpi-t...|Great course, i h...|    By Geoff T|Jul 21, 2019|   5.0|Become a CBRS Cer...|Google - Spectrum...|Become a CBRS Cer...|Google - Spectrum...|                 Course|1 - 3 Months|          4.6|              3.4k|            Mixed|https://www.cours...|                   9,008|           []|['Bayesian Infere...|This Specializati...|     96|      198.0| [[]]|(746,[11],[1.0])|\n",
      "|google-cbrs-cpi-t...|The course was fi...|  By William J|Jun 07, 2019|   5.0|Become a CBRS Cer...|Google - Spectrum...|Become a CBRS Cer...|Google - Spectrum...|                 Course|1 - 3 Months|          4.6|              3.4k|            Mixed|https://www.cours...|                   9,008|           []|['Bayesian Infere...|This Specializati...|     96|      198.0| [[]]|(746,[11],[1.0])|\n",
      "|google-cbrs-cpi-t...|Well presented co...|    By Ariel R|Sep 27, 2019|   5.0|Become a CBRS Cer...|Google - Spectrum...|Become a CBRS Cer...|Google - Spectrum...|                 Course|1 - 3 Months|          4.6|              3.4k|            Mixed|https://www.cours...|                   9,008|           []|['Bayesian Infere...|This Specializati...|     96|      198.0| [[]]|(746,[11],[1.0])|\n",
      "|google-cbrs-cpi-t...|Course is easy en...|   By Austin N|Dec 27, 2019|   5.0|Become a CBRS Cer...|Google - Spectrum...|Become a CBRS Cer...|Google - Spectrum...|                 Course|1 - 3 Months|          4.6|              3.4k|            Mixed|https://www.cours...|                   9,008|           []|['Bayesian Infere...|This Specializati...|     96|      198.0| [[]]|(746,[11],[1.0])|\n",
      "|google-cbrs-cpi-t...|The instructions ...| By Jayson P J|Nov 22, 2019|   5.0|Become a CBRS Cer...|Google - Spectrum...|Become a CBRS Cer...|Google - Spectrum...|                 Course|1 - 3 Months|          4.6|              3.4k|            Mixed|https://www.cours...|                   9,008|           []|['Bayesian Infere...|This Specializati...|     96|      198.0| [[]]|(746,[11],[1.0])|\n",
      "|google-cbrs-cpi-t...|Easy to follow. D...|   By Robert S|Nov 07, 2019|   5.0|Become a CBRS Cer...|Google - Spectrum...|Become a CBRS Cer...|Google - Spectrum...|                 Course|1 - 3 Months|          4.6|              3.4k|            Mixed|https://www.cours...|                   9,008|           []|['Bayesian Infere...|This Specializati...|     96|      198.0| [[]]|(746,[11],[1.0])|\n",
      "|google-cbrs-cpi-t...|Excellent Trainin...|    By Scott C|Sep 02, 2020|   5.0|Become a CBRS Cer...|Google - Spectrum...|Become a CBRS Cer...|Google - Spectrum...|                 Course|1 - 3 Months|          4.6|              3.4k|            Mixed|https://www.cours...|                   9,008|           []|['Bayesian Infere...|This Specializati...|     96|      198.0| [[]]|(746,[11],[1.0])|\n",
      "+--------------------+--------------------+--------------+------------+------+--------------------+--------------------+--------------------+--------------------+-----------------------+------------+-------------+------------------+-----------------+--------------------+------------------------+-------------+--------------------+--------------------+-------+-----------+-----+----------------+\n",
      "only showing top 20 rows\n",
      "\n"
     ]
    }
   ],
   "source": [
    "data_content.show()"
   ]
  },
  {
   "cell_type": "code",
   "execution_count": 16,
   "id": "508926d9",
   "metadata": {},
   "outputs": [],
   "source": [
    "(training_data, test_data) = data_content.randomSplit([0.8, 0.2])"
   ]
  },
  {
   "cell_type": "code",
   "execution_count": 17,
   "id": "d3b1af91",
   "metadata": {},
   "outputs": [],
   "source": [
    "# Train the collaborative filtering model on the combined data\n",
    "model = als.fit(training_data)"
   ]
  },
  {
   "cell_type": "code",
   "execution_count": 18,
   "id": "4f2af0a4",
   "metadata": {},
   "outputs": [],
   "source": [
    "# Moake Predictions on Test set\n",
    "predictions = model.transform(test_data)"
   ]
  },
  {
   "cell_type": "code",
   "execution_count": 19,
   "id": "71079ddf",
   "metadata": {},
   "outputs": [
    {
     "name": "stdout",
     "output_type": "stream",
     "text": [
      "Mean Squared Error (MSE): 6.522344981598273e-06\n",
      "Root Mean Squared Error (RMSE): 0.0025538882085162366\n",
      "Mean Absolute Error (RMSE): 0.0025287181603266566\n",
      "R^2 Score: 0.9999425585168622\n"
     ]
    }
   ],
   "source": [
    "# Calculate Mean-Square-Error (MSE)\n",
    "evaluator = RegressionEvaluator(labelCol=\"course_rating\", predictionCol=\"prediction\")\n",
    "mse = evaluator.evaluate(predictions, {evaluator.metricName: \"mse\"})\n",
    "print(f\"Mean Squared Error (MSE): {mse}\")\n",
    "\n",
    "# Calculate the Root Mean-Squeare-Error (RMSE)\n",
    "rmse = evaluator.evaluate(predictions, {evaluator.metricName: \"rmse\"})\n",
    "print(f\"Root Mean Squared Error (RMSE): {rmse}\")\n",
    "\n",
    "# Calculate the Mean Absolute Error (MAE)\n",
    "mae = evaluator.evaluate(predictions, {evaluator.metricName: \"mae\"})\n",
    "print(f\"Mean Absolute Error (RMSE): {mae}\")\n",
    "\n",
    "# Calculate the R^2 Coefficient\n",
    "r2 = evaluator.evaluate(predictions, {evaluator.metricName: \"r2\"})\n",
    "print(f\"R^2 Score: {r2}\")"
   ]
  },
  {
   "cell_type": "code",
   "execution_count": 20,
   "id": "afd0663d",
   "metadata": {},
   "outputs": [],
   "source": [
    "target_skill = \"Web Development\"\n",
    "skill_data = spark.createDataFrame([(target_skill,)], [\"course_skills\"])\n",
    "skill_vector = content_model.transform(skill_data).select(\"features\").collect()[0][0]\n",
    "course_recommendations = model.recommendForItemSubset(skill_vector, 14)  # Get top recommendations"
   ]
  },
  {
   "cell_type": "code",
   "execution_count": 21,
   "id": "187a7bf4",
   "metadata": {},
   "outputs": [
    {
     "name": "stdout",
     "output_type": "stream",
     "text": [
      "+------------------------------------------------------------+-------------+\n",
      "|course_title                                                |course_rating|\n",
      "+------------------------------------------------------------+-------------+\n",
      "|Introduction to Front-End Development                       |4.9          |\n",
      "|Core Java                                                   |4.8          |\n",
      "|Introduction to Web Development with HTML, CSS, JavaScript  |4.7          |\n",
      "|Meta Android Developer                                      |4.7          |\n",
      "|Meta Back-End Developer                                     |4.7          |\n",
      "|Meta iOS Developer                                          |4.7          |\n",
      "|Programming with JavaScript                                 |4.7          |\n",
      "|React Basics                                                |4.7          |\n",
      "|Web Design for Everybody: Basics of Web Development & Coding|4.7          |\n",
      "|IBM Front-End Developer                                     |4.6          |\n",
      "|Version Control                                             |4.6          |\n",
      "|Desarrollador front-end de Meta                             |4.4          |\n",
      "|Developing Front-End Apps with React                        |4.4          |\n",
      "|.NET FullStack Developer                                    |4.3          |\n",
      "+------------------------------------------------------------+-------------+\n",
      "\n"
     ]
    }
   ],
   "source": [
    "# View predicted courses\n",
    "course_recommendations.select(\"course_title\", \"course_rating\").show()"
   ]
  },
  {
   "cell_type": "code",
   "execution_count": 22,
   "id": "d4ca9ad1",
   "metadata": {},
   "outputs": [],
   "source": [
    "target_skill = \"Talent Management\"\n",
    "skill_data = spark.createDataFrame([(target_skill,)], [\"course_skills\"])\n",
    "skill_vector = content_model.transform(skill_data).select(\"features\").collect()[0][0]\n",
    "course_recommendations = model.recommendForItemSubset(skill_vector, 5)  # Get top 5 recommendations"
   ]
  },
  {
   "cell_type": "code",
   "execution_count": 23,
   "id": "949fae04",
   "metadata": {},
   "outputs": [
    {
     "name": "stdout",
     "output_type": "stream",
     "text": [
      "+---------------------------+-------------+\n",
      "|course_title               |course_rating|\n",
      "+---------------------------+-------------+\n",
      "|Leading People and Teams   |4.8          |\n",
      "|Omnichannel Retail Strategy|4.8          |\n",
      "|People Analytics           |4.8          |\n",
      "+---------------------------+-------------+\n",
      "\n"
     ]
    }
   ],
   "source": [
    "# View predicted courses\n",
    "course_recommendations.select(\"course_title\", \"course_rating\").show()"
   ]
  }
 ],
 "metadata": {
  "kernelspec": {
   "display_name": "Python 3 (ipykernel)",
   "language": "python",
   "name": "python3"
  },
  "language_info": {
   "codemirror_mode": {
    "name": "ipython",
    "version": 3
   },
   "file_extension": ".py",
   "mimetype": "text/x-python",
   "name": "python",
   "nbconvert_exporter": "python",
   "pygments_lexer": "ipython3",
   "version": "3.11.5"
  }
 },
 "nbformat": 4,
 "nbformat_minor": 5
}
